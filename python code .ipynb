{
 "cells": [
  {
   "cell_type": "code",
   "execution_count": 3,
   "metadata": {},
   "outputs": [
    {
     "name": "stdout",
     "output_type": "stream",
     "text": [
      "enter the radius1.100000\n",
      "3.8013271108436504\n"
     ]
    }
   ],
   "source": [
    "#a python pgm to accept the radius from the user and print the area of the cirlce\n",
    "import math\n",
    "radius = float(input(\"enter the radius\"))\n",
    "a = math.pi\n",
    "area = a*(radius**2)\n",
    "print( area)"
   ]
  },
  {
   "cell_type": "code",
   "execution_count": 5,
   "metadata": {},
   "outputs": [
    {
     "name": "stdout",
     "output_type": "stream",
     "text": [
      "enter the filenameabc.py\n",
      "The extension of the file is : 'py'\n"
     ]
    }
   ],
   "source": [
    "# a python pgm to accept a filename from the user and print the extension of that file \n",
    "filename =input (\"enter the filename\")\n",
    "f_extns = filename.split(\".\")\n",
    "print (\"The extension of the file is : \" + repr(f_extns[-1]))\n"
   ]
  },
  {
   "cell_type": "code",
   "execution_count": null,
   "metadata": {},
   "outputs": [],
   "source": []
  }
 ],
 "metadata": {
  "kernelspec": {
   "display_name": "Python 3",
   "language": "python",
   "name": "python3"
  },
  "language_info": {
   "codemirror_mode": {
    "name": "ipython",
    "version": 3
   },
   "file_extension": ".py",
   "mimetype": "text/x-python",
   "name": "python",
   "nbconvert_exporter": "python",
   "pygments_lexer": "ipython3",
   "version": "3.7.6"
  }
 },
 "nbformat": 4,
 "nbformat_minor": 4
}
