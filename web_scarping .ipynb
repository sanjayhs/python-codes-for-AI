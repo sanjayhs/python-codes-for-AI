{
 "cells": [
  {
   "cell_type": "code",
   "execution_count": null,
   "metadata": {},
   "outputs": [],
   "source": [
    "# web scarping\n",
    "import requests\n",
    "from bs4 import BeautifulSoup\n",
    "import pandas as pd\n",
    "\n",
    "oyo_url=\"https://www.oyorooms.com/hotel-in-bangalore/page=\"\n",
    " scraped_info={}\n",
    "for page_num in range(1,page_num_MAX):\n",
    "    req=requests.get(oyo_url+ str(page_num))\n",
    "    content=req.content\n",
    "    print(content)\n",
    "\n",
    "    soup = BeautifulSoup(content,\"html.parser\")\n",
    "    all_hotels= soup.find_all(\"div\", {\"class \": \"hotelCardListing\"})\n",
    "\n",
    "   \n",
    "    for hotel in all_hotels:\n",
    "        hotel_dict={}\n",
    "        hotel_dict{\"name}\"= hotel.find(\"h3\", {\"class\": \"ListingHotelDiscription__hotelName\"}).text\n",
    "        hotel_dict{\"address\"} = hotel.find(\"span\", {\"itemprop\": \"streetAddress\"}).text\n",
    "        hotel_dict{\"price\"} = hotel.find(\"span\",{\"class\": \"listingPrice__finalPrice\"}).text\n",
    "    \n",
    "    try:\n",
    "        hotel_dict{\"rating\"}= hotel.find(\"span\", {\"class\": \"hotelRating__ratingSummary\"}).text\n",
    "        except AttributeError:\n",
    "            pass \n",
    "    parent_amenities_element= = hotel.find(\"div\", {\"class\", \"amenityWapper__amenity\"})\n",
    "    amenities.list[]\n",
    "    for amenity in  parent_amenities_element= = hotel.find(\"div\", {\"class\", \"amenityWapper__amenity\"}):\n",
    "        amenity_list.append(amenity.find(\"span\", {\"class\": \"d-body-smd-textEllipis\"})).text.strip\n",
    "        hotel_dict{\"amenities\"}= ', '.join(amenities_list[:-1])\n",
    "        scraped_info.append( hotel_dict)\n",
    "         \n",
    "    \n",
    "   # print(hotel_name,hotel_address,hotel_prices,hotel_rating,amenity_list)\n",
    "\n",
    "dataframe= pd.Dataframe(scraped_info)\n",
    "data.frame.to_csv(\"oyo.csv\")\n",
    "               \n",
    " \n",
    "    \n"
   ]
  },
  {
   "cell_type": "code",
   "execution_count": null,
   "metadata": {},
   "outputs": [],
   "source": []
  }
 ],
 "metadata": {
  "kernelspec": {
   "display_name": "Python 3",
   "language": "python",
   "name": "python3"
  },
  "language_info": {
   "codemirror_mode": {
    "name": "ipython",
    "version": 3
   },
   "file_extension": ".py",
   "mimetype": "text/x-python",
   "name": "python",
   "nbconvert_exporter": "python",
   "pygments_lexer": "ipython3",
   "version": "3.7.6"
  }
 },
 "nbformat": 4,
 "nbformat_minor": 4
}
